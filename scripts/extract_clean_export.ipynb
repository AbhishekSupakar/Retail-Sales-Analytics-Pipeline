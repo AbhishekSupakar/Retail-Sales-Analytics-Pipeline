{
 "cells": [
  {
   "cell_type": "code",
   "execution_count": 2,
   "id": "3fb14f5d",
   "metadata": {},
   "outputs": [
    {
     "name": "stdout",
     "output_type": "stream",
     "text": [
      "Collecting mysql-connector-python\n",
      "  Downloading mysql_connector_python-9.3.0-cp312-cp312-win_amd64.whl.metadata (7.7 kB)\n",
      "Requirement already satisfied: pandas in g:\\python_and_others\\lib\\site-packages (2.2.2)\n",
      "Requirement already satisfied: openpyxl in g:\\python_and_others\\lib\\site-packages (3.1.5)\n",
      "Requirement already satisfied: numpy>=1.26.0 in g:\\python_and_others\\lib\\site-packages (from pandas) (1.26.4)\n",
      "Requirement already satisfied: python-dateutil>=2.8.2 in g:\\python_and_others\\lib\\site-packages (from pandas) (2.9.0.post0)\n",
      "Requirement already satisfied: pytz>=2020.1 in g:\\python_and_others\\lib\\site-packages (from pandas) (2024.1)\n",
      "Requirement already satisfied: tzdata>=2022.7 in g:\\python_and_others\\lib\\site-packages (from pandas) (2023.3)\n",
      "Requirement already satisfied: et-xmlfile in g:\\python_and_others\\lib\\site-packages (from openpyxl) (1.1.0)\n",
      "Requirement already satisfied: six>=1.5 in g:\\python_and_others\\lib\\site-packages (from python-dateutil>=2.8.2->pandas) (1.16.0)\n",
      "Downloading mysql_connector_python-9.3.0-cp312-cp312-win_amd64.whl (16.4 MB)\n",
      "   ---------------------------------------- 0.0/16.4 MB ? eta -:--:--\n",
      "   - -------------------------------------- 0.5/16.4 MB 4.2 MB/s eta 0:00:04\n",
      "   --- ------------------------------------ 1.3/16.4 MB 3.5 MB/s eta 0:00:05\n",
      "   ----- ---------------------------------- 2.1/16.4 MB 3.6 MB/s eta 0:00:05\n",
      "   ------- -------------------------------- 2.9/16.4 MB 3.7 MB/s eta 0:00:04\n",
      "   --------- ------------------------------ 3.9/16.4 MB 4.0 MB/s eta 0:00:04\n",
      "   ----------- ---------------------------- 4.7/16.4 MB 3.8 MB/s eta 0:00:04\n",
      "   ------------- -------------------------- 5.5/16.4 MB 3.8 MB/s eta 0:00:03\n",
      "   -------------- ------------------------- 6.0/16.4 MB 3.8 MB/s eta 0:00:03\n",
      "   ---------------- ----------------------- 6.8/16.4 MB 3.7 MB/s eta 0:00:03\n",
      "   ------------------ --------------------- 7.6/16.4 MB 3.8 MB/s eta 0:00:03\n",
      "   --------------------- ------------------ 8.7/16.4 MB 3.8 MB/s eta 0:00:03\n",
      "   ----------------------- ---------------- 9.7/16.4 MB 3.8 MB/s eta 0:00:02\n",
      "   ------------------------- -------------- 10.5/16.4 MB 3.9 MB/s eta 0:00:02\n",
      "   --------------------------- ------------ 11.3/16.4 MB 3.8 MB/s eta 0:00:02\n",
      "   ---------------------------- ----------- 11.8/16.4 MB 3.7 MB/s eta 0:00:02\n",
      "   ----------------------------- ---------- 12.1/16.4 MB 3.6 MB/s eta 0:00:02\n",
      "   ------------------------------ --------- 12.6/16.4 MB 3.6 MB/s eta 0:00:02\n",
      "   -------------------------------- ------- 13.4/16.4 MB 3.5 MB/s eta 0:00:01\n",
      "   ---------------------------------- ----- 14.2/16.4 MB 3.5 MB/s eta 0:00:01\n",
      "   ----------------------------------- ---- 14.7/16.4 MB 3.5 MB/s eta 0:00:01\n",
      "   ------------------------------------- -- 15.5/16.4 MB 3.5 MB/s eta 0:00:01\n",
      "   ------------------------------------- -- 15.5/16.4 MB 3.5 MB/s eta 0:00:01\n",
      "   -------------------------------------- - 15.7/16.4 MB 3.3 MB/s eta 0:00:01\n",
      "   ---------------------------------------  16.0/16.4 MB 3.2 MB/s eta 0:00:01\n",
      "   ---------------------------------------  16.3/16.4 MB 3.1 MB/s eta 0:00:01\n",
      "   ---------------------------------------- 16.4/16.4 MB 3.1 MB/s eta 0:00:00\n",
      "Installing collected packages: mysql-connector-python\n",
      "Successfully installed mysql-connector-python-9.3.0\n",
      "Note: you may need to restart the kernel to use updated packages.\n"
     ]
    }
   ],
   "source": [
    "pip install mysql-connector-python pandas openpyxl"
   ]
  },
  {
   "cell_type": "code",
   "execution_count": 3,
   "id": "c79bb6b1",
   "metadata": {},
   "outputs": [
    {
     "name": "stderr",
     "output_type": "stream",
     "text": [
      "C:\\Users\\HP\\AppData\\Local\\Temp\\ipykernel_18140\\359199855.py:32: UserWarning: pandas only supports SQLAlchemy connectable (engine/connection) or database string URI or sqlite3 DBAPI2 connection. Other DBAPI2 objects are not tested. Please consider using SQLAlchemy.\n",
      "  df = pd.read_sql(query, conn)\n"
     ]
    },
    {
     "name": "stdout",
     "output_type": "stream",
     "text": [
      " Excel file generated successfully.\n"
     ]
    }
   ],
   "source": [
    "import mysql.connector\n",
    "import pandas as pd\n",
    "\n",
    "#  Connect to MySQL\n",
    "conn = mysql.connector.connect(\n",
    "    host='localhost',\n",
    "    user='root',\n",
    "    password='ABHISHEK',\n",
    "    port=3306,               \n",
    "    database='retaildb'\n",
    ")\n",
    "\n",
    "#  Query Data with Joins\n",
    "query = \"\"\"\n",
    "SELECT\n",
    "    o.order_id,\n",
    "    o.order_date,\n",
    "    o.status,\n",
    "    o.order_value,\n",
    "    c.customer_id,\n",
    "    c.name AS customer_name,\n",
    "    c.region,\n",
    "    p.product_id,\n",
    "    p.product_name,\n",
    "    p.category,\n",
    "    p.price\n",
    "FROM orders o\n",
    "JOIN customers c ON o.customer_id = c.customer_id\n",
    "LEFT JOIN products p ON o.order_value = p.price\n",
    "\"\"\"\n",
    "\n",
    "df = pd.read_sql(query, conn)\n",
    "\n",
    "#  Optional Cleaning\n",
    "df.drop_duplicates(inplace=True)\n",
    "df['order_date'] = pd.to_datetime(df['order_date'])\n",
    "\n",
    "#  Export to Excel\n",
    "df.to_excel(\"Sales_Customer_Orders.xlsx\", index=False)\n",
    "\n",
    "print(\" Excel file generated successfully.\")\n"
   ]
  },
  {
   "cell_type": "code",
   "execution_count": null,
   "id": "b127977d",
   "metadata": {},
   "outputs": [],
   "source": []
  }
 ],
 "metadata": {
  "kernelspec": {
   "display_name": "base",
   "language": "python",
   "name": "python3"
  },
  "language_info": {
   "codemirror_mode": {
    "name": "ipython",
    "version": 3
   },
   "file_extension": ".py",
   "mimetype": "text/x-python",
   "name": "python",
   "nbconvert_exporter": "python",
   "pygments_lexer": "ipython3",
   "version": "3.12.7"
  }
 },
 "nbformat": 4,
 "nbformat_minor": 5
}
